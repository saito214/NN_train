{
 "cells": [
  {
   "cell_type": "code",
   "execution_count": 15,
   "id": "6ebdc8df-62ad-475e-b95f-8cd244563796",
   "metadata": {},
   "outputs": [
    {
     "name": "stdout",
     "output_type": "stream",
     "text": [
      "[array([[2.66582534, 2.48770567, 8.55596941],\n",
      "       [2.49976491, 5.38799228, 0.08040396],\n",
      "       [4.81009057, 5.40437666, 5.54659577]]), array([[5.02401701, 3.92448428, 6.15007636],\n",
      "       [8.18025046, 9.53611888, 7.94459824],\n",
      "       [6.50314103, 6.37048217, 1.64714855]])]\n"
     ]
    }
   ],
   "source": [
    "import numpy as np\n",
    "\n",
    "\n",
    "dW1 = np.random.rand(3, 3) * 10\n",
    "dW2 = np.random.rand(3, 3) * 10\n",
    "grads = [dW1, dW2]\n",
    "max_norm = 5.0\n",
    "\n",
    "print(grads)"
   ]
  },
  {
   "cell_type": "code",
   "execution_count": 16,
   "id": "80be19ed-6060-4911-af02-b1c0ced497e1",
   "metadata": {},
   "outputs": [],
   "source": [
    "def clip_grads(grads, max_norm):\n",
    "    total_norm = 0\n",
    "    for grad in grads:\n",
    "        print(grad**2)\n",
    "        total_norm += np.sum(grad**2)\n",
    "    total_norm = np.sqrt(total_norm)\n",
    "    print(total_norm)\n",
    "    \n",
    "    rate = max_norm / (total_norm + 1e-6)\n",
    "    if rate < 1:\n",
    "        for grad in grads:\n",
    "            grad *= rate #勾配が爆発しないように，次の一つ左の層に渡す前に小さくする　"
   ]
  },
  {
   "cell_type": "code",
   "execution_count": 17,
   "id": "aea4386a-75a3-45d3-9589-b447677ce1c8",
   "metadata": {},
   "outputs": [
    {
     "name": "stdout",
     "output_type": "stream",
     "text": [
      "before: [2.66582534 2.48770567 8.55596941 2.49976491 5.38799228 0.08040396\n",
      " 4.81009057 5.40437666 5.54659577]\n",
      "[[7.10662472e+00 6.18867949e+00 7.32046125e+01]\n",
      " [6.24882459e+00 2.90304608e+01 6.46479634e-03]\n",
      " [2.31369713e+01 2.92072871e+01 3.07647246e+01]]\n",
      "[[25.24074689 15.40157688 37.82343919]\n",
      " [66.91649751 90.93756337 63.11664114]\n",
      " [42.29084332 40.58304313  2.71309834]]\n",
      "24.288229651845597\n",
      "after: [0.54878953 0.51212163 1.76134061 0.51460416 1.1091776  0.01655204\n",
      " 0.99021016 1.11255051 1.14182788]\n"
     ]
    }
   ],
   "source": [
    "print('before:', dW1.flatten())\n",
    "clip_grads(grads, max_norm)\n",
    "print('after:', dW1.flatten())\n"
   ]
  },
  {
   "cell_type": "code",
   "execution_count": null,
   "id": "74e746cc-477b-4ed3-91f3-087d25d93072",
   "metadata": {},
   "outputs": [],
   "source": []
  }
 ],
 "metadata": {
  "kernelspec": {
   "display_name": "Python 3 (ipykernel)",
   "language": "python",
   "name": "python3"
  },
  "language_info": {
   "codemirror_mode": {
    "name": "ipython",
    "version": 3
   },
   "file_extension": ".py",
   "mimetype": "text/x-python",
   "name": "python",
   "nbconvert_exporter": "python",
   "pygments_lexer": "ipython3",
   "version": "3.11.7"
  }
 },
 "nbformat": 4,
 "nbformat_minor": 5
}
