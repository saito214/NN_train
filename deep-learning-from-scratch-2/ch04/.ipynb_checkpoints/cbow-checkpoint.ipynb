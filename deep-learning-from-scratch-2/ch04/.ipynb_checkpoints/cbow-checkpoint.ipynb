{
 "cells": [
  {
   "cell_type": "code",
   "execution_count": 1,
   "id": "3c57a8f6-d49a-40fa-9b7d-28230822b57f",
   "metadata": {},
   "outputs": [
    {
     "name": "stdout",
     "output_type": "stream",
     "text": [
      "CuPy is installed.\n",
      "Version: 13.3.0\n",
      "CuPy version: 13.3.0\n"
     ]
    }
   ],
   "source": [
    "try:\n",
    "    import cupy\n",
    "    print(\"CuPy is installed.\")\n",
    "    print(\"Version:\", cupy.__version__)\n",
    "except ImportError:\n",
    "    print(\"CuPy is not installed.\")\n",
    "print(\"CuPy version:\", cupy.__version__)"
   ]
  },
  {
   "cell_type": "code",
   "execution_count": 2,
   "id": "ece87521-0995-4060-9cb7-9f2feb4cf16c",
   "metadata": {},
   "outputs": [
    {
     "name": "stdout",
     "output_type": "stream",
     "text": [
      "\u001b[92m------------------------------------------------------------\u001b[0m\n",
      "                       \u001b[92mGPU Mode (cupy)\u001b[0m\n",
      "\u001b[92m------------------------------------------------------------\u001b[0m\n",
      "\n"
     ]
    }
   ],
   "source": [
    "import sys\n",
    "sys.path.append('..')\n",
    "from common import config\n",
    "# GPUで実行する場合は、下記のコメントアウトを消去（要cupy）\n",
    "# ===============================================\n",
    "config.GPU = True\n",
    "# ===============================================\n",
    "from common.np import *\n",
    "import pickle\n",
    "from common.trainer import Trainer\n",
    "from common.optimizer import Adam\n",
    "from cbow import CBOW\n",
    "from skip_gram import SkipGram\n",
    "from common.util import create_contexts_target, to_cpu, to_gpu\n",
    "from dataset import ptb\n",
    "\n",
    "\n",
    "# ハイパーパラメータの設定\n",
    "window_size = 5\n",
    "hidden_size = 100\n",
    "batch_size = 100\n",
    "max_epoch = 2 #デフォルトは10\n"
   ]
  },
  {
   "cell_type": "code",
   "execution_count": 3,
   "id": "166d1b5d-cb59-4cee-b1bd-7c2c6223ff57",
   "metadata": {},
   "outputs": [
    {
     "name": "stdout",
     "output_type": "stream",
     "text": [
      "| epoch 1 |  iter 1 / 9295 | time 0[s] | loss 4.16\n",
      "| epoch 1 |  iter 21 / 9295 | time 0[s] | loss 4.16\n",
      "| epoch 1 |  iter 41 / 9295 | time 1[s] | loss 4.15\n",
      "| epoch 1 |  iter 61 / 9295 | time 1[s] | loss 4.12\n",
      "| epoch 1 |  iter 81 / 9295 | time 2[s] | loss 4.04\n",
      "| epoch 1 |  iter 101 / 9295 | time 2[s] | loss 3.92\n",
      "| epoch 1 |  iter 121 / 9295 | time 2[s] | loss 3.77\n",
      "| epoch 1 |  iter 141 / 9295 | time 3[s] | loss 3.61\n",
      "| epoch 1 |  iter 161 / 9295 | time 3[s] | loss 3.48\n",
      "| epoch 1 |  iter 181 / 9295 | time 4[s] | loss 3.36\n",
      "| epoch 1 |  iter 201 / 9295 | time 4[s] | loss 3.26\n",
      "| epoch 1 |  iter 221 / 9295 | time 5[s] | loss 3.16\n",
      "| epoch 1 |  iter 241 / 9295 | time 5[s] | loss 3.09\n"
     ]
    },
    {
     "ename": "KeyboardInterrupt",
     "evalue": "",
     "output_type": "error",
     "traceback": [
      "\u001b[0;31m---------------------------------------------------------------------------\u001b[0m",
      "\u001b[0;31mKeyboardInterrupt\u001b[0m                         Traceback (most recent call last)",
      "Cell \u001b[0;32mIn[3], line 22\u001b[0m\n\u001b[1;32m     19\u001b[0m trainer \u001b[38;5;241m=\u001b[39m Trainer(model, optimizer)\n\u001b[1;32m     21\u001b[0m \u001b[38;5;66;03m# 学習開始\u001b[39;00m\n\u001b[0;32m---> 22\u001b[0m trainer\u001b[38;5;241m.\u001b[39mfit(contexts, target, max_epoch, batch_size)\n\u001b[1;32m     23\u001b[0m trainer\u001b[38;5;241m.\u001b[39mplot()\n\u001b[1;32m     25\u001b[0m \u001b[38;5;66;03m# 後ほど利用できるように、必要なデータを保存\u001b[39;00m\n",
      "File \u001b[0;32m/mnt/nfs/hera/saito214/デスクトップ/deep-learning-from-scratch-2/ch04/../common/trainer.py:39\u001b[0m, in \u001b[0;36mTrainer.fit\u001b[0;34m(self, x, t, max_epoch, batch_size, max_grad, eval_interval)\u001b[0m\n\u001b[1;32m     36\u001b[0m batch_t \u001b[38;5;241m=\u001b[39m t[iters\u001b[38;5;241m*\u001b[39mbatch_size:(iters\u001b[38;5;241m+\u001b[39m\u001b[38;5;241m1\u001b[39m)\u001b[38;5;241m*\u001b[39mbatch_size]\n\u001b[1;32m     38\u001b[0m \u001b[38;5;66;03m# 勾配を求め、パラメータを更新\u001b[39;00m\n\u001b[0;32m---> 39\u001b[0m loss \u001b[38;5;241m=\u001b[39m model\u001b[38;5;241m.\u001b[39mforward(batch_x, batch_t)\n\u001b[1;32m     40\u001b[0m model\u001b[38;5;241m.\u001b[39mbackward()\n\u001b[1;32m     41\u001b[0m params, grads \u001b[38;5;241m=\u001b[39m remove_duplicate(model\u001b[38;5;241m.\u001b[39mparams, model\u001b[38;5;241m.\u001b[39mgrads)  \u001b[38;5;66;03m# 共有された重みを1つに集約\u001b[39;00m\n",
      "File \u001b[0;32m/mnt/nfs/hera/saito214/デスクトップ/deep-learning-from-scratch-2/ch04/cbow.py:39\u001b[0m, in \u001b[0;36mCBOW.forward\u001b[0;34m(self, contexts, target)\u001b[0m\n\u001b[1;32m     37\u001b[0m     h \u001b[38;5;241m+\u001b[39m\u001b[38;5;241m=\u001b[39m layer\u001b[38;5;241m.\u001b[39mforward(contexts[:, i])\n\u001b[1;32m     38\u001b[0m h \u001b[38;5;241m*\u001b[39m\u001b[38;5;241m=\u001b[39m \u001b[38;5;241m1\u001b[39m \u001b[38;5;241m/\u001b[39m \u001b[38;5;28mlen\u001b[39m(\u001b[38;5;28mself\u001b[39m\u001b[38;5;241m.\u001b[39min_layers)\n\u001b[0;32m---> 39\u001b[0m loss \u001b[38;5;241m=\u001b[39m \u001b[38;5;28mself\u001b[39m\u001b[38;5;241m.\u001b[39mns_loss\u001b[38;5;241m.\u001b[39mforward(h, target)\n\u001b[1;32m     40\u001b[0m \u001b[38;5;28;01mreturn\u001b[39;00m loss\n",
      "File \u001b[0;32m/mnt/nfs/hera/saito214/デスクトップ/deep-learning-from-scratch-2/ch04/../ch04/negative_sampling_layer.py:87\u001b[0m, in \u001b[0;36mNegativeSamplingLoss.forward\u001b[0;34m(self, h, target)\u001b[0m\n\u001b[1;32m     84\u001b[0m \u001b[38;5;28;01mdef\u001b[39;00m \u001b[38;5;21mforward\u001b[39m(\u001b[38;5;28mself\u001b[39m, h, target):\n\u001b[1;32m     85\u001b[0m     batch_size \u001b[38;5;241m=\u001b[39m target\u001b[38;5;241m.\u001b[39mshape[\u001b[38;5;241m0\u001b[39m] \u001b[38;5;66;03m#targetはidの組み合わせ，行の数が正例の数\u001b[39;00m\n\u001b[0;32m---> 87\u001b[0m     negative_sample \u001b[38;5;241m=\u001b[39m \u001b[38;5;28mself\u001b[39m\u001b[38;5;241m.\u001b[39msampler\u001b[38;5;241m.\u001b[39mget_negative_sample(target)\n\u001b[1;32m     89\u001b[0m     \u001b[38;5;66;03m#正例\u001b[39;00m\n\u001b[1;32m     90\u001b[0m     score \u001b[38;5;241m=\u001b[39m \u001b[38;5;28mself\u001b[39m\u001b[38;5;241m.\u001b[39membed_dot_layers[\u001b[38;5;241m0\u001b[39m]\u001b[38;5;241m.\u001b[39mforward(h, target) \u001b[38;5;66;03m#targetは注目するid, つまりWの行を指定する\u001b[39;00m\n",
      "File \u001b[0;32m/mnt/nfs/hera/saito214/デスクトップ/deep-learning-from-scratch-2/ch04/../ch04/negative_sampling_layer.py:68\u001b[0m, in \u001b[0;36mUnigramSampler.get_negative_sample\u001b[0;34m(self, target)\u001b[0m\n\u001b[1;32m     64\u001b[0m         negative_sample[i, :] \u001b[38;5;241m=\u001b[39m np\u001b[38;5;241m.\u001b[39mrandom\u001b[38;5;241m.\u001b[39mchoice(\u001b[38;5;28mself\u001b[39m\u001b[38;5;241m.\u001b[39mvocab_size, size\u001b[38;5;241m=\u001b[39m\u001b[38;5;28mself\u001b[39m\u001b[38;5;241m.\u001b[39msample_size, replace\u001b[38;5;241m=\u001b[39m\u001b[38;5;28;01mFalse\u001b[39;00m, p\u001b[38;5;241m=\u001b[39mp)\n\u001b[1;32m     65\u001b[0m \u001b[38;5;28;01melse\u001b[39;00m:\n\u001b[1;32m     66\u001b[0m     \u001b[38;5;66;03m# GPU(cupy）で計算するときは、速度を優先\u001b[39;00m\n\u001b[1;32m     67\u001b[0m     \u001b[38;5;66;03m# 負例にターゲットが含まれるケースがある\u001b[39;00m\n\u001b[0;32m---> 68\u001b[0m     negative_sample \u001b[38;5;241m=\u001b[39m np\u001b[38;5;241m.\u001b[39mrandom\u001b[38;5;241m.\u001b[39mchoice(\u001b[38;5;28mself\u001b[39m\u001b[38;5;241m.\u001b[39mvocab_size, size\u001b[38;5;241m=\u001b[39m(batch_size, \u001b[38;5;28mself\u001b[39m\u001b[38;5;241m.\u001b[39msample_size),\n\u001b[1;32m     69\u001b[0m                                        replace\u001b[38;5;241m=\u001b[39m\u001b[38;5;28;01mTrue\u001b[39;00m, p\u001b[38;5;241m=\u001b[39m\u001b[38;5;28mself\u001b[39m\u001b[38;5;241m.\u001b[39mword_p)\n\u001b[1;32m     71\u001b[0m \u001b[38;5;28;01mreturn\u001b[39;00m negative_sample\n",
      "File \u001b[0;32m/home2/anaconda3/lib/python3.11/site-packages/cupy/random/_sample.py:190\u001b[0m, in \u001b[0;36mchoice\u001b[0;34m(a, size, replace, p)\u001b[0m\n\u001b[1;32m    160\u001b[0m \u001b[38;5;250m\u001b[39m\u001b[38;5;124;03m\"\"\"Returns an array of random values from a given 1-D array.\u001b[39;00m\n\u001b[1;32m    161\u001b[0m \n\u001b[1;32m    162\u001b[0m \u001b[38;5;124;03mEach element of the returned array is independently sampled\u001b[39;00m\n\u001b[0;32m   (...)\u001b[0m\n\u001b[1;32m    187\u001b[0m \n\u001b[1;32m    188\u001b[0m \u001b[38;5;124;03m\"\"\"\u001b[39;00m\n\u001b[1;32m    189\u001b[0m rs \u001b[38;5;241m=\u001b[39m _generator\u001b[38;5;241m.\u001b[39mget_random_state()\n\u001b[0;32m--> 190\u001b[0m \u001b[38;5;28;01mreturn\u001b[39;00m rs\u001b[38;5;241m.\u001b[39mchoice(a, size, replace, p)\n",
      "File \u001b[0;32m/home2/anaconda3/lib/python3.11/site-packages/cupy/random/_generator.py:1110\u001b[0m, in \u001b[0;36mRandomState.choice\u001b[0;34m(self, a, size, replace, p)\u001b[0m\n\u001b[1;32m   1108\u001b[0m \u001b[38;5;28;01mif\u001b[39;00m \u001b[38;5;129;01mnot\u001b[39;00m (p \u001b[38;5;241m>\u001b[39m\u001b[38;5;241m=\u001b[39m \u001b[38;5;241m0\u001b[39m)\u001b[38;5;241m.\u001b[39mall():\n\u001b[1;32m   1109\u001b[0m     \u001b[38;5;28;01mraise\u001b[39;00m \u001b[38;5;167;01mValueError\u001b[39;00m(\u001b[38;5;124m'\u001b[39m\u001b[38;5;124mprobabilities are not non-negative\u001b[39m\u001b[38;5;124m'\u001b[39m)\n\u001b[0;32m-> 1110\u001b[0m p_sum \u001b[38;5;241m=\u001b[39m cupy\u001b[38;5;241m.\u001b[39msum(p)\u001b[38;5;241m.\u001b[39mget()\n\u001b[1;32m   1111\u001b[0m \u001b[38;5;28;01mif\u001b[39;00m \u001b[38;5;129;01mnot\u001b[39;00m numpy\u001b[38;5;241m.\u001b[39mallclose(p_sum, \u001b[38;5;241m1\u001b[39m):\n\u001b[1;32m   1112\u001b[0m     \u001b[38;5;28;01mraise\u001b[39;00m \u001b[38;5;167;01mValueError\u001b[39;00m(\u001b[38;5;124m'\u001b[39m\u001b[38;5;124mprobabilities do not sum to 1\u001b[39m\u001b[38;5;124m'\u001b[39m)\n",
      "File \u001b[0;32m/home2/anaconda3/lib/python3.11/site-packages/cupy/_math/sumprod.py:11\u001b[0m, in \u001b[0;36msum\u001b[0;34m(a, axis, dtype, out, keepdims)\u001b[0m\n\u001b[1;32m      7\u001b[0m \u001b[38;5;28;01mfrom\u001b[39;00m \u001b[38;5;21;01mcupy\u001b[39;00m\u001b[38;5;21;01m.\u001b[39;00m\u001b[38;5;21;01m_core\u001b[39;00m \u001b[38;5;28;01mimport\u001b[39;00m _fusion_thread_local\n\u001b[1;32m      8\u001b[0m \u001b[38;5;28;01mfrom\u001b[39;00m \u001b[38;5;21;01mcupy\u001b[39;00m\u001b[38;5;21;01m.\u001b[39;00m\u001b[38;5;21;01m_core\u001b[39;00m \u001b[38;5;28;01mimport\u001b[39;00m internal\n\u001b[0;32m---> 11\u001b[0m \u001b[38;5;28;01mdef\u001b[39;00m \u001b[38;5;21msum\u001b[39m(a, axis\u001b[38;5;241m=\u001b[39m\u001b[38;5;28;01mNone\u001b[39;00m, dtype\u001b[38;5;241m=\u001b[39m\u001b[38;5;28;01mNone\u001b[39;00m, out\u001b[38;5;241m=\u001b[39m\u001b[38;5;28;01mNone\u001b[39;00m, keepdims\u001b[38;5;241m=\u001b[39m\u001b[38;5;28;01mFalse\u001b[39;00m):\n\u001b[1;32m     12\u001b[0m \u001b[38;5;250m    \u001b[39m\u001b[38;5;124;03m\"\"\"Returns the sum of an array along given axes.\u001b[39;00m\n\u001b[1;32m     13\u001b[0m \n\u001b[1;32m     14\u001b[0m \u001b[38;5;124;03m    Args:\u001b[39;00m\n\u001b[0;32m   (...)\u001b[0m\n\u001b[1;32m     26\u001b[0m \n\u001b[1;32m     27\u001b[0m \u001b[38;5;124;03m    \"\"\"\u001b[39;00m\n\u001b[1;32m     28\u001b[0m     \u001b[38;5;28;01mif\u001b[39;00m _fusion_thread_local\u001b[38;5;241m.\u001b[39mis_fusing():\n",
      "\u001b[0;31mKeyboardInterrupt\u001b[0m: "
     ]
    }
   ],
   "source": [
    "# ハイパーパラメータの設定\n",
    "window_size = 5\n",
    "hidden_size = 100\n",
    "batch_size = 100\n",
    "max_epoch = 10\n",
    "\n",
    "# データの読み込み\n",
    "corpus, word_to_id, id_to_word = ptb.load_data('train')\n",
    "vocab_size = len(word_to_id)\n",
    "\n",
    "contexts, target = create_contexts_target(corpus, window_size)\n",
    "if config.GPU:\n",
    "    contexts, target = to_gpu(contexts), to_gpu(target)\n",
    "\n",
    "# モデルなどの生成\n",
    "model = CBOW(vocab_size, hidden_size, window_size, corpus)\n",
    "# model = SkipGram(vocab_size, hidden_size, window_size, corpus)\n",
    "optimizer = Adam()\n",
    "trainer = Trainer(model, optimizer)\n",
    "\n",
    "# 学習開始\n",
    "trainer.fit(contexts, target, max_epoch, batch_size)\n",
    "trainer.plot()\n",
    "\n",
    "# 後ほど利用できるように、必要なデータを保存\n",
    "word_vecs = model.word_vecs\n",
    "if config.GPU:\n",
    "    word_vecs = to_cpu(word_vecs)\n",
    "params = {}\n",
    "params['word_vecs'] = word_vecs.astype(np.float16)\n",
    "params['word_to_id'] = word_to_id\n",
    "params['id_to_word'] = id_to_word\n",
    "pkl_file = 'cbow_params.pkl'  # or 'skipgram_params.pkl'\n",
    "with open(pkl_file, 'wb') as f:\n",
    "    pickle.dump(params, f, -1)\n"
   ]
  },
  {
   "cell_type": "code",
   "execution_count": null,
   "id": "3a8fcb59-054b-4bcc-bf49-ad14d95b5d0a",
   "metadata": {},
   "outputs": [],
   "source": []
  }
 ],
 "metadata": {
  "kernelspec": {
   "display_name": "Python 3 (ipykernel)",
   "language": "python",
   "name": "python3"
  },
  "language_info": {
   "codemirror_mode": {
    "name": "ipython",
    "version": 3
   },
   "file_extension": ".py",
   "mimetype": "text/x-python",
   "name": "python",
   "nbconvert_exporter": "python",
   "pygments_lexer": "ipython3",
   "version": "3.11.7"
  }
 },
 "nbformat": 4,
 "nbformat_minor": 5
}
